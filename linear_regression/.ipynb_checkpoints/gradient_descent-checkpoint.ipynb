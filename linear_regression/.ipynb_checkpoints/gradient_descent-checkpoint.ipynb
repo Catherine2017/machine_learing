{
 "cells": [
  {
   "cell_type": "markdown",
   "metadata": {},
   "source": [
    "# 批量梯度下降"
   ]
  },
  {
   "cell_type": "code",
   "execution_count": null,
   "metadata": {},
   "outputs": [],
   "source": [
    "import numpy as np\n",
    "from functools import wraps\n",
    "import matplotlib as plt\n",
    "import time\n",
    "\n",
    "\n",
    "def exeTime(func):\n",
    "    \"\"\"耗时计算装饰器\"\"\"\n",
    "    @wraps(func)\n",
    "    def newFunc(*args, **kwargs):\n",
    "        t0 = time.time()\n",
    "        back = func(*args, **kwargs)\n",
    "        return back, time.time() - t0\n",
    "    return newFunc\n",
    "\n",
    "\n"
   ]
  }
 ],
 "metadata": {
  "kernelspec": {
   "display_name": "Python 3",
   "language": "python",
   "name": "python3"
  },
  "language_info": {
   "codemirror_mode": {
    "name": "ipython",
    "version": 3
   },
   "file_extension": ".py",
   "mimetype": "text/x-python",
   "name": "python",
   "nbconvert_exporter": "python",
   "pygments_lexer": "ipython3",
   "version": "3.7.4"
  }
 },
 "nbformat": 4,
 "nbformat_minor": 2
}
