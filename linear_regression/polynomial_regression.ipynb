{
 "cells": [
  {
   "cell_type": "code",
   "execution_count": 5,
   "metadata": {},
   "outputs": [],
   "source": [
    "# ...\n",
    "def standardize(X):\n",
    "    \"\"\"特征标准化处理\n",
    "\n",
    "    Args:\n",
    "        X: 样本集\n",
    "    Returns:\n",
    "        标准后的样本集\n",
    "    \"\"\"\n",
    "    m, n = X.shape\n",
    "    # 归一化每一个特征\n",
    "    for j in range(n):\n",
    "        features = X[:,j]\n",
    "        meanVal = features.mean(axis=0)\n",
    "        std = features.std(axis=0)\n",
    "        if std != 0:\n",
    "            X[:, j] = (features-meanVal)/std\n",
    "        else:\n",
    "            X[:, j] = 0\n",
    "    return X\n",
    "\n",
    "def normalize(X):\n",
    "    \"\"\"特征归一化处理\n",
    "\n",
    "    Args:\n",
    "        X: 样本集\n",
    "    Returns:\n",
    "        归一化后的样本集\n",
    "    \"\"\"\n",
    "    m, n = X.shape\n",
    "    # 归一化每一个特征\n",
    "    for j in range(n):\n",
    "        features = X[:,j]\n",
    "        minVal = features.min(axis=0)\n",
    "        maxVal = features.max(axis=0)\n",
    "        diff = maxVal - minVal\n",
    "        if diff != 0:\n",
    "           X[:,j] = (features-minVal)/diff\n",
    "        else:\n",
    "           X[:,j] = 0\n",
    "    return X"
   ]
  },
  {
   "cell_type": "code",
   "execution_count": null,
   "metadata": {},
   "outputs": [],
   "source": [
    "from "
   ]
  }
 ],
 "metadata": {
  "kernelspec": {
   "display_name": "Python 3",
   "language": "python",
   "name": "python3"
  },
  "language_info": {
   "codemirror_mode": {
    "name": "ipython",
    "version": 3
   },
   "file_extension": ".py",
   "mimetype": "text/x-python",
   "name": "python",
   "nbconvert_exporter": "python",
   "pygments_lexer": "ipython3",
   "version": "3.7.4"
  }
 },
 "nbformat": 4,
 "nbformat_minor": 2
}
