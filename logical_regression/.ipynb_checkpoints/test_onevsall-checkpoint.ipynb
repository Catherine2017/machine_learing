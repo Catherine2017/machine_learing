{
 "cells": [
  {
   "cell_type": "code",
   "execution_count": 20,
   "metadata": {},
   "outputs": [
    {
     "name": "stdout",
     "output_type": "stream",
     "text": [
      "(5000, 400)\n",
      "(10, 401)\n",
      "(10, 5000)\n",
      "[[1]]\n",
      "10.0\n"
     ]
    }
   ],
   "source": [
    "import numpy as np\n",
    "import logical_regression as regression\n",
    "from scipy.io import loadmat\n",
    "data = loadmat('data/ex3data1.mat')\n",
    "X = np.mat(data['X'])\n",
    "print(X.shape)\n",
    "y = np.mat(data['y'])\n",
    "# 为X添加偏置\n",
    "X = np.append(np.ones((X.shape[0], 1)), X, axis=1)\n",
    "# 采用批量梯度下降法\n",
    "options = {\n",
    "    'rate': 0.1,\n",
    "    'epsilon': 0.1,\n",
    "    'maxLoop': 5000,\n",
    "    'method': 'bgd'\n",
    "}\n",
    "# 训练\n",
    "Thetas = regression.oneVsAll(X,y,options)\n",
    "print(Thetas.shape)\n",
    "# 预测\n",
    "H = regression.predictOneVsAll(X, Thetas)\n",
    "print(H.shape)\n",
    "pred = np.argmax(H,axis=0)+1\n",
    "print(pred.max(axis=1))\n",
    "# 计算准确率\n",
    "print(np.mean(pred == y.ravel())*100)"
   ]
  },
  {
   "cell_type": "code",
   "execution_count": null,
   "metadata": {},
   "outputs": [],
   "source": []
  }
 ],
 "metadata": {
  "kernelspec": {
   "display_name": "Python 3",
   "language": "python",
   "name": "python3"
  },
  "language_info": {
   "codemirror_mode": {
    "name": "ipython",
    "version": 3
   },
   "file_extension": ".py",
   "mimetype": "text/x-python",
   "name": "python",
   "nbconvert_exporter": "python",
   "pygments_lexer": "ipython3",
   "version": "3.7.4"
  }
 },
 "nbformat": 4,
 "nbformat_minor": 2
}
